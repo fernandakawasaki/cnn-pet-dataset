{
  "cells": [
    {
      "cell_type": "markdown",
      "id": "b7cd226d",
      "metadata": {
        "id": "b7cd226d"
      },
      "source": [
        "### Projeto - Redes Convolucionais\n",
        "\n",
        "Na disciplina foram vistos diferentes conceitos e arquiteturas de redes convolucionais. O uso de cada abordagem depende principalmente do problema e da base de dados. Sendo assim, esse projeto tem como objetivo avaliar os conhecimentos de diferentes partes do conteúdo. Para isso, deverão ser desenvolvidas nesse notebook:\n",
        "\n",
        "1 - Uma arquitetura de rede CNN implementada pelo próprio aluno\n",
        "\n",
        "2 - Utilização de uma arquitetura de rede proposta na literatura (e.g. ResNet, VGG, EfficientNet) por meio de modelos pré-treinados\n",
        "\n",
        "3 - Utilização de uma arquitetura de rede proposta na literatura (e.g. ResNet, VGG, EfficientNet), realizando treinamento dessa rede"
      ]
    },
    {
      "cell_type": "markdown",
      "id": "4a17ba0e",
      "metadata": {
        "id": "4a17ba0e"
      },
      "source": [
        "### A Base de dados\n",
        "\n",
        "Para desenvolver o projeto, será utilizado o dataset [The Oxford-IIIT Pet Dataset](https://www.robots.ox.ac.uk/~vgg/data/pets/). Este dataset possui diferentes raças de cachorros e gatos, conforme ilustrado na figura baixo.\n",
        "\n",
        "![Title](breeds.png)\n",
        "\n",
        "Para essa base de dados, os pontos 1,2 e 3 descritos no tópico anterior deverão ser realizados para desenvolver duas soluções:\n",
        "\n",
        "1 - Um classificador de gatos e cachorros\n",
        "\n",
        "2 - Um classificador de raças de animais \n",
        "\n",
        "OBS: O ponto 2, a princípio, deverá ser realizado com todas as raças de gatos e cachorros. Entretanto, caso desejem, podem dividir o problema em duas redes: uma para raças de gatos e outra para raças de cachorros. \n"
      ]
    },
    {
      "cell_type": "markdown",
      "id": "656cd00e",
      "metadata": {
        "id": "656cd00e"
      },
      "source": [
        "### Critérios de Avaliação\n",
        "\n",
        "Serão tidos como critérios de avaliação:\n",
        "\n",
        "* A implementação das soluções descritas\n",
        "* Descrição da análise e comparação de resultados de cada solução"
      ]
    },
    {
      "cell_type": "markdown",
      "id": "acd6e11c",
      "metadata": {
        "id": "acd6e11c"
      },
      "source": [
        "### Solução 1 - Classificador de gatos e cachorros\n",
        "\n",
        "Para implementação dessa solução, as seguintes etapas deverão ser realizadas:\n",
        "\n",
        "1 - Leitura da base de dados (recomendado utilizar as funções do Keras de leitura em Batch https://keras.io/api/preprocessing/image/)\n",
        "\n",
        "2 - Visualização de imagens do dataset. Como você avalia as imagens desta base de dados para cada classe?\n",
        "\n",
        "3 - Quais as dimensões e quantos canais de cores possuem a imagem?\n",
        "\n",
        "4 - Implementação de pelo menos uma arquitetura de rede CNN: \n",
        "\n",
        "  * Qual o desempenho da rede? (métrica de classificação a critério do aluno)\n",
        "  * A rede apresenta overfiting ou underfiting? \n",
        "  \n",
        "5 - Utilize a base de dados em tons de cinza e realize o treinamento novamente da arquitetura proposta no ponto anterior. Existe alguma diferença de desempenho da rede?\n",
        "\n",
        "6 - Escolha uma arquitetura de rede proposta na literatura (disponíveis em https://keras.io/api/applications/)\n",
        "\n",
        "* Utilizando a rede escolhida de forma pré-treinada, qual o desempenho desta arquitetura para este problema?\n",
        "* A rede apresenta overfiting ou underfiting?\n",
        "* Descongele parcialmente a rede escolhida, foi observada mudança de desempenho do modelo?\n",
        "* Adicione camadas na rede, foi observada mudança de desempenho do modelo?\n",
        "* Descongele totalmente a rede escolhida, foi observada mudança de desempenho do modelo?"
      ]
    },
    {
      "cell_type": "markdown",
      "id": "a708bf92",
      "metadata": {
        "id": "a708bf92"
      },
      "source": [
        "### Solução 2 - Classificar raças de animais\n",
        "\n",
        "1 - Implementação de pelo menos uma arquitetura de rede CNN: \n",
        "\n",
        "  * Qual o desempenho da rede? (métrica de classificação a critério do aluno)\n",
        "  * A rede apresenta overfiting ou underfiting? \n",
        "\n",
        "2 - Escolha uma arquitetura de rede proposta na literatura (disponíveis em https://keras.io/api/applications/)\n",
        "\n",
        "* Utilizando a rede escolhida de forma pré-treinada, qual o desempenho desta arquitetura para este problema?\n",
        "* A rede apresenta overfiting ou underfiting?\n",
        "* Descongele parcialmente a rede escolhida, foi observada mudança de desempenho do modelo?\n",
        "* Adicione camadas na rede, foi observada mudança de desempenho do modelo?\n",
        "* Descongele totalmente a rede escolhida, foi observada mudança de desempenho do modelo?\n",
        "\n",
        "3 - Escolha pelo menos uma arquitetura de rede dos tópicos 1 ou 2 e utilize técnicas de oversampling (https://keras.io/api/preprocessing/image/ ou https://albumentations.ai) nesta rede. Como você avalia o desempenho do modelo realizando o oversampling?\n",
        "\n",
        "4 - Escolha o melhor modelo de rede desenvolvido nos tópicos anteriores e analise os resultados:\n",
        "  * Qual o desempenho do modelo para cada raça?\n",
        "  * Quais raças possuem menor desempenho? \n",
        "  * Existe algum pre-processamento que você acredite que possa melhorar o desempenho do modelo para estas raças de menor desempenho?"
      ]
    },
    {
      "cell_type": "code",
      "source": [
        ""
      ],
      "metadata": {
        "id": "iqQMZZ5pmi2Q"
      },
      "id": "iqQMZZ5pmi2Q",
      "execution_count": null,
      "outputs": []
    }
  ],
  "metadata": {
    "kernelspec": {
      "display_name": "Python 3 (ipykernel)",
      "language": "python",
      "name": "python3"
    },
    "language_info": {
      "codemirror_mode": {
        "name": "ipython",
        "version": 3
      },
      "file_extension": ".py",
      "mimetype": "text/x-python",
      "name": "python",
      "nbconvert_exporter": "python",
      "pygments_lexer": "ipython3",
      "version": "3.9.5"
    },
    "colab": {
      "name": "Redes Convolucionais",
      "provenance": [],
      "collapsed_sections": []
    }
  },
  "nbformat": 4,
  "nbformat_minor": 5
}