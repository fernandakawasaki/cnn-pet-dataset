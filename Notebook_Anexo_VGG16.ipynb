{
  "cells": [
    {
      "cell_type": "markdown",
      "source": [
        "# **Projeto - Redes Convolucionais**"
      ],
      "metadata": {
        "id": "kVYIatsKAaDm"
      },
      "id": "kVYIatsKAaDm"
    },
    {
      "cell_type": "markdown",
      "source": [
        "### **Download dataset**"
      ],
      "metadata": {
        "id": "3eYze2mokkeg"
      },
      "id": "3eYze2mokkeg"
    },
    {
      "cell_type": "code",
      "source": [
        "import pandas as pd\n",
        "import tensorflow as tf\n",
        "from tensorflow.python.keras.models import Sequential\n",
        "from tensorflow.python.keras.layers import Dense, Activation, Dropout, Flatten, Conv2D, MaxPooling2D, Input\n",
        "from tensorflow.python.keras.callbacks import EarlyStopping"
      ],
      "metadata": {
        "id": "alUAo1nsJhjg"
      },
      "id": "alUAo1nsJhjg",
      "execution_count": 1,
      "outputs": []
    },
    {
      "cell_type": "code",
      "source": [
        "!wget https://www.robots.ox.ac.uk/~vgg/data/pets/data/images.tar.gz\n",
        "!wget https://www.robots.ox.ac.uk/~vgg/data/pets/data/annotations.tar.gz"
      ],
      "metadata": {
        "colab": {
          "base_uri": "https://localhost:8080/"
        },
        "id": "Pt1NIjKS9xC0",
        "outputId": "e7b103b0-c501-4868-8a77-9d6384c578f7"
      },
      "id": "Pt1NIjKS9xC0",
      "execution_count": 2,
      "outputs": [
        {
          "output_type": "stream",
          "name": "stdout",
          "text": [
            "--2022-05-16 22:35:09--  https://www.robots.ox.ac.uk/~vgg/data/pets/data/images.tar.gz\n",
            "Resolving www.robots.ox.ac.uk (www.robots.ox.ac.uk)... 129.67.94.2\n",
            "Connecting to www.robots.ox.ac.uk (www.robots.ox.ac.uk)|129.67.94.2|:443... connected.\n",
            "HTTP request sent, awaiting response... 200 OK\n",
            "Length: 791918971 (755M) [application/x-gzip]\n",
            "Saving to: ‘images.tar.gz’\n",
            "\n",
            "images.tar.gz       100%[===================>] 755.23M  28.7MB/s    in 30s     \n",
            "\n",
            "2022-05-16 22:35:40 (25.0 MB/s) - ‘images.tar.gz’ saved [791918971/791918971]\n",
            "\n",
            "--2022-05-16 22:35:40--  https://www.robots.ox.ac.uk/~vgg/data/pets/data/annotations.tar.gz\n",
            "Resolving www.robots.ox.ac.uk (www.robots.ox.ac.uk)... 129.67.94.2\n",
            "Connecting to www.robots.ox.ac.uk (www.robots.ox.ac.uk)|129.67.94.2|:443... connected.\n",
            "HTTP request sent, awaiting response... 200 OK\n",
            "Length: 19173078 (18M) [application/x-gzip]\n",
            "Saving to: ‘annotations.tar.gz’\n",
            "\n",
            "annotations.tar.gz  100%[===================>]  18.28M  14.3MB/s    in 1.3s    \n",
            "\n",
            "2022-05-16 22:35:42 (14.3 MB/s) - ‘annotations.tar.gz’ saved [19173078/19173078]\n",
            "\n"
          ]
        }
      ]
    },
    {
      "cell_type": "code",
      "source": [
        "!tar -xf images.tar.gz\n",
        "!tar -xf annotations.tar.gz"
      ],
      "metadata": {
        "id": "F_EWVLaxNBaA"
      },
      "id": "F_EWVLaxNBaA",
      "execution_count": 3,
      "outputs": []
    },
    {
      "cell_type": "markdown",
      "source": [
        "## **Cats and dogs**"
      ],
      "metadata": {
        "id": "cBNa60or-QTw"
      },
      "id": "cBNa60or-QTw"
    },
    {
      "cell_type": "markdown",
      "source": [
        "### **Prepare data**"
      ],
      "metadata": {
        "id": "0RFUw-TCLPe_"
      },
      "id": "0RFUw-TCLPe_"
    },
    {
      "cell_type": "code",
      "source": [
        "IMAGE_BASE_PATH = 'images'\n",
        "SAMPLE_FILES = 'annotations/list.txt'\n",
        "TRAIN_FILES = 'annotations/trainval.txt'\n",
        "TEST_FILES = 'annotations/test.txt'\n",
        "\n",
        "files = open(TRAIN_FILES)\n",
        "train_files = []\n",
        "train_labels = []\n",
        "for txt_line in files:\n",
        "    if txt_line[0] == '#':\n",
        "        continue\n",
        "    file_name, class_id, cat_dog_id, sub_class_id = txt_line.split(' ')\n",
        "    train_files.append(file_name + '.jpg')\n",
        "    train_labels.append(cat_dog_id)\n",
        "files.close()\n",
        "\n",
        "train_data_frame = pd.DataFrame({'filename': train_files, 'label': train_labels})"
      ],
      "metadata": {
        "id": "fMrH_4O0Jb_l"
      },
      "id": "fMrH_4O0Jb_l",
      "execution_count": 4,
      "outputs": []
    },
    {
      "cell_type": "code",
      "source": [
        "BATCH_SIZE = 64\n",
        "\n",
        "train_datagen = tf.keras.preprocessing.image.ImageDataGenerator(validation_split=0.2, rescale=1/255)\n",
        "\n",
        "train_dataset = train_datagen.flow_from_dataframe(dataframe=train_data_frame,\n",
        "                                        directory=IMAGE_BASE_PATH,\n",
        "                                        x_col='filename',\n",
        "                                        y_col='label',\n",
        "                                        target_size=(128, 128),\n",
        "                                        class_mode='categorical',\n",
        "                                        batch_size=BATCH_SIZE,\n",
        "                                        subset='training',\n",
        "                                        shuffle=True,\n",
        "                                        seed=42)\n",
        "\n",
        "val_dataset = train_datagen.flow_from_dataframe(dataframe=train_data_frame,\n",
        "                                      directory=IMAGE_BASE_PATH,\n",
        "                                      x_col='filename',\n",
        "                                      y_col='label',\n",
        "                                      target_size=(128, 128),\n",
        "                                      class_mode='categorical',\n",
        "                                      batch_size=BATCH_SIZE,\n",
        "                                      subset='validation',\n",
        "                                      shuffle=True,\n",
        "                                      seed=42)"
      ],
      "metadata": {
        "colab": {
          "base_uri": "https://localhost:8080/"
        },
        "id": "YMK7BvNPJmjR",
        "outputId": "046c7cc2-caef-4cb3-ea49-6cc94cf493f6"
      },
      "id": "YMK7BvNPJmjR",
      "execution_count": 5,
      "outputs": [
        {
          "output_type": "stream",
          "name": "stdout",
          "text": [
            "Found 2944 validated image filenames belonging to 2 classes.\n",
            "Found 736 validated image filenames belonging to 2 classes.\n"
          ]
        }
      ]
    },
    {
      "cell_type": "markdown",
      "source": [
        "### **Model - VGG16**"
      ],
      "metadata": {
        "id": "NoA-Du3Z9LtE"
      },
      "id": "NoA-Du3Z9LtE"
    },
    {
      "cell_type": "code",
      "source": [
        "from tensorflow import keras"
      ],
      "metadata": {
        "id": "m0xAa01fA9mA"
      },
      "id": "m0xAa01fA9mA",
      "execution_count": 7,
      "outputs": []
    },
    {
      "cell_type": "markdown",
      "source": [
        "#### Rede pré-treinada"
      ],
      "metadata": {
        "id": "GUphvnUg_0Z9"
      },
      "id": "GUphvnUg_0Z9"
    },
    {
      "cell_type": "code",
      "source": [
        "#Pré treinada\n",
        "\n",
        "rede = keras.applications.VGG16(\n",
        "    weights=\"imagenet\",  \n",
        "    input_shape=(128, 128, 3),\n",
        "    include_top=False,\n",
        ")\n",
        "\n",
        "rede.trainable=False"
      ],
      "metadata": {
        "id": "_1aJcfXsB4CV",
        "colab": {
          "base_uri": "https://localhost:8080/"
        },
        "outputId": "5bac1fe0-1ffd-4cf9-cca7-0aa66d988649"
      },
      "id": "_1aJcfXsB4CV",
      "execution_count": 8,
      "outputs": [
        {
          "output_type": "stream",
          "name": "stdout",
          "text": [
            "Downloading data from https://storage.googleapis.com/tensorflow/keras-applications/vgg16/vgg16_weights_tf_dim_ordering_tf_kernels_notop.h5\n",
            "58892288/58889256 [==============================] - 0s 0us/step\n",
            "58900480/58889256 [==============================] - 0s 0us/step\n"
          ]
        }
      ]
    },
    {
      "cell_type": "code",
      "source": [
        "def nova_rede_pre_treinada(base_model):\n",
        "    resolucao = (5, 5)\n",
        "    pool_size = (2, 2)\n",
        "    n_filtros = 32\n",
        "\n",
        "    inputs = keras.Input(shape=(32, 32, 3))\n",
        "\n",
        "    dense1 = Dense(32, activation='relu')\n",
        "    dense2 = Dense(64, activation='relu')\n",
        "    dense3 = Dense(128, activation='relu')\n",
        "    dense4 = Dense(256, activation='relu')\n",
        "    dense5 = Dense(512, activation='relu')\n",
        "\n",
        "    flatten = Flatten()\n",
        "    dense = Dense(2, activation='softmax')\n",
        "\n",
        "    model = Sequential([\n",
        "            base_model,\n",
        "            flatten,\n",
        "            dense2,\n",
        "            dense3,\n",
        "            dense4,\n",
        "            dense\n",
        "        ])\n",
        "\n",
        "    return model\n",
        "\n",
        "model = nova_rede_pre_treinada(rede)\n",
        "    \n",
        "# Definicao de otimizadores\n",
        "model.compile(loss = 'categorical_crossentropy',\n",
        "                     optimizer = 'Adam',\n",
        "                     metrics = ['accuracy'])\n"
      ],
      "metadata": {
        "id": "yf9-8P_RGC0P"
      },
      "id": "yf9-8P_RGC0P",
      "execution_count": 9,
      "outputs": []
    },
    {
      "cell_type": "code",
      "source": [
        "import matplotlib.pyplot as plt\n",
        "\n",
        "def plot_model_loss(historico):\n",
        "    loss = historico.history['loss']\n",
        "    val_loss = historico.history['val_loss']\n",
        "    epochs = range(len(loss))\n",
        "    plt.figure()\n",
        "    plt.plot(epochs, loss, 'bo', label = 'Training loss')\n",
        "    plt.plot(epochs, val_loss, 'b', label = 'Validation loss')\n",
        "    plt.title('Training and validation loss')\n",
        "    plt.legend()\n",
        "    plt.show()\n",
        "\n",
        "\n",
        "def plot_model_accuracy(historico):\n",
        "    accuracy = historico.history['accuracy']\n",
        "    val_accuracy = historico.history['val_accuracy']\n",
        "    epochs = range(len(accuracy))\n",
        "    plt.figure()\n",
        "    plt.plot(epochs, accuracy, 'bo', label = 'Training accuracy')\n",
        "    plt.plot(epochs, val_accuracy, 'b', label='Validation accuracy')\n",
        "    plt.legend()\n",
        "    plt.show()\n"
      ],
      "metadata": {
        "id": "1qestn0LAAlM"
      },
      "id": "1qestn0LAAlM",
      "execution_count": 11,
      "outputs": []
    },
    {
      "cell_type": "code",
      "source": [
        "es = EarlyStopping(monitor='val_loss', min_delta = 0.001, patience = 10)\n",
        "historico = model.fit_generator(train_dataset,\n",
        "                        steps_per_epoch = train_dataset.samples // 64,\n",
        "                        validation_data = val_dataset,\n",
        "                        validation_steps = val_dataset.samples // 64,\n",
        "                        epochs=32,\n",
        "                        callbacks=[es])"
      ],
      "metadata": {
        "id": "8l5gS5KzDcFw",
        "colab": {
          "base_uri": "https://localhost:8080/"
        },
        "outputId": "976ebac2-7a3e-476c-80ad-75e1cac03363"
      },
      "id": "8l5gS5KzDcFw",
      "execution_count": 12,
      "outputs": [
        {
          "output_type": "stream",
          "name": "stderr",
          "text": [
            "/usr/local/lib/python3.7/dist-packages/tensorflow/python/keras/engine/training.py:1963: UserWarning: `Model.fit_generator` is deprecated and will be removed in a future version. Please use `Model.fit`, which supports generators.\n",
            "  warnings.warn('`Model.fit_generator` is deprecated and '\n"
          ]
        },
        {
          "output_type": "stream",
          "name": "stdout",
          "text": [
            "Epoch 1/32\n",
            "46/46 [==============================] - 24s 455ms/step - loss: 0.4308 - accuracy: 0.8030 - val_loss: 0.4036 - val_accuracy: 0.8153\n",
            "Epoch 2/32\n",
            "46/46 [==============================] - 21s 453ms/step - loss: 0.2424 - accuracy: 0.8961 - val_loss: 0.2290 - val_accuracy: 0.8920\n",
            "Epoch 3/32\n",
            "46/46 [==============================] - 26s 581ms/step - loss: 0.1588 - accuracy: 0.9385 - val_loss: 0.2769 - val_accuracy: 0.8835\n",
            "Epoch 4/32\n",
            "46/46 [==============================] - 23s 508ms/step - loss: 0.1132 - accuracy: 0.9538 - val_loss: 0.4257 - val_accuracy: 0.8509\n",
            "Epoch 5/32\n",
            "46/46 [==============================] - 24s 522ms/step - loss: 0.0656 - accuracy: 0.9762 - val_loss: 0.3932 - val_accuracy: 0.8665\n",
            "Epoch 6/32\n",
            "46/46 [==============================] - 23s 512ms/step - loss: 0.0262 - accuracy: 0.9922 - val_loss: 0.4089 - val_accuracy: 0.8963\n",
            "Epoch 7/32\n",
            "46/46 [==============================] - 28s 622ms/step - loss: 0.0698 - accuracy: 0.9664 - val_loss: 0.6064 - val_accuracy: 0.8580\n",
            "Epoch 8/32\n",
            "46/46 [==============================] - 24s 536ms/step - loss: 0.0250 - accuracy: 0.9885 - val_loss: 0.4479 - val_accuracy: 0.8849\n",
            "Epoch 9/32\n",
            "46/46 [==============================] - 22s 491ms/step - loss: 0.0278 - accuracy: 0.9871 - val_loss: 0.8206 - val_accuracy: 0.8494\n",
            "Epoch 10/32\n",
            "46/46 [==============================] - 20s 446ms/step - loss: 0.0180 - accuracy: 0.9935 - val_loss: 0.4671 - val_accuracy: 0.8878\n",
            "Epoch 11/32\n",
            "46/46 [==============================] - 22s 475ms/step - loss: 0.0268 - accuracy: 0.9908 - val_loss: 0.4549 - val_accuracy: 0.8864\n",
            "Epoch 12/32\n",
            "46/46 [==============================] - 24s 523ms/step - loss: 0.0161 - accuracy: 0.9942 - val_loss: 0.9118 - val_accuracy: 0.8423\n"
          ]
        }
      ]
    },
    {
      "cell_type": "code",
      "source": [
        "plot_model_loss(historico)"
      ],
      "metadata": {
        "colab": {
          "base_uri": "https://localhost:8080/",
          "height": 281
        },
        "id": "gyw2GzlU_xF0",
        "outputId": "48304836-6d86-4032-df31-413a99f2a766"
      },
      "id": "gyw2GzlU_xF0",
      "execution_count": 13,
      "outputs": [
        {
          "output_type": "display_data",
          "data": {
            "text/plain": [
              "<Figure size 432x288 with 1 Axes>"
            ],
            "image/png": "[encoded data removed]"
          },
          "metadata": {
            "needs_background": "light"
          }
        }
      ]
    },
    {
      "cell_type": "code",
      "source": [
        "plot_model_accuracy(historico)"
      ],
      "metadata": {
        "colab": {
          "base_uri": "https://localhost:8080/",
          "height": 265
        },
        "id": "DJJPmG6X_zDU",
        "outputId": "0bdb7917-29c5-4b63-c0c6-8ed8f8c3b62e"
      },
      "id": "DJJPmG6X_zDU",
      "execution_count": 14,
      "outputs": [
        {
          "output_type": "display_data",
          "data": {
            "text/plain": [
              "<Figure size 432x288 with 1 Axes>"
            ],
            "image/png": "[encoded data removed]"
          },
          "metadata": {
            "needs_background": "light"
          }
        }
      ]
    },
    {
      "cell_type": "markdown",
      "source": [
        "Considerando a acurácia de treino e validação, percebe-se que houve overfitting do modelo. A acurácia de treinamento ficou maior que 0.99, porém a de validação ficou com 0.84"
      ],
      "metadata": {
        "id": "5HK9pkSIDutB"
      },
      "id": "5HK9pkSIDutB"
    },
    {
      "cell_type": "markdown",
      "source": [
        "#### Descongelamento parcial"
      ],
      "metadata": {
        "id": "sw2JtuCR_42X"
      },
      "id": "sw2JtuCR_42X"
    },
    {
      "cell_type": "code",
      "source": [
        "#Descongelamento parcial\n",
        "\n",
        "rede = keras.applications.VGG16(\n",
        "    weights=\"imagenet\",  \n",
        "    input_shape=(128, 128, 3),\n",
        "    include_top=False,\n",
        ")\n",
        "\n",
        "rede.layers[18].trainable = False\n",
        "\n",
        "for layer in rede.layers[:len(rede.layers)//2]:\n",
        "   layer.trainable = False\n",
        "for layer in rede.layers[len(rede.layers)//2:]:\n",
        "   layer.trainable = True"
      ],
      "metadata": {
        "id": "0ZwS94E5qRJx"
      },
      "id": "0ZwS94E5qRJx",
      "execution_count": 15,
      "outputs": []
    },
    {
      "cell_type": "code",
      "source": [
        "model = nova_rede_pre_treinada(rede)"
      ],
      "metadata": {
        "id": "OzK-6UtCG4GR"
      },
      "id": "OzK-6UtCG4GR",
      "execution_count": 16,
      "outputs": []
    },
    {
      "cell_type": "code",
      "source": [
        "# Definicao de otimizadores\n",
        "model.compile(loss = 'categorical_crossentropy',\n",
        "                     optimizer = 'Adam',\n",
        "                     metrics = ['accuracy'])\n",
        "\n",
        "\n",
        "es = EarlyStopping(monitor='val_loss', min_delta = 0.001, patience = 10)\n",
        "historico = model.fit_generator(train_dataset,\n",
        "                        steps_per_epoch = train_dataset.samples // 64,\n",
        "                        validation_data = val_dataset,\n",
        "                        validation_steps = val_dataset.samples // 64,\n",
        "                        epochs=32,\n",
        "                        callbacks=[es])"
      ],
      "metadata": {
        "colab": {
          "base_uri": "https://localhost:8080/"
        },
        "id": "vjt2vklnEE5B",
        "outputId": "360f9fe0-44db-4fea-a0c2-0c6ec88f7dad"
      },
      "id": "vjt2vklnEE5B",
      "execution_count": 17,
      "outputs": [
        {
          "output_type": "stream",
          "name": "stderr",
          "text": [
            "/usr/local/lib/python3.7/dist-packages/tensorflow/python/keras/engine/training.py:1963: UserWarning: `Model.fit_generator` is deprecated and will be removed in a future version. Please use `Model.fit`, which supports generators.\n",
            "  warnings.warn('`Model.fit_generator` is deprecated and '\n"
          ]
        },
        {
          "output_type": "stream",
          "name": "stdout",
          "text": [
            "Epoch 1/32\n",
            "46/46 [==============================] - 29s 510ms/step - loss: 1.4377 - accuracy: 0.6746 - val_loss: 0.6728 - val_accuracy: 0.5980\n",
            "Epoch 2/32\n",
            "46/46 [==============================] - 26s 570ms/step - loss: 0.6247 - accuracy: 0.6882 - val_loss: 0.6782 - val_accuracy: 0.5994\n",
            "Epoch 3/32\n",
            "46/46 [==============================] - 31s 687ms/step - loss: 0.6307 - accuracy: 0.6834 - val_loss: 0.6813 - val_accuracy: 0.5909\n",
            "Epoch 4/32\n",
            "46/46 [==============================] - 24s 536ms/step - loss: 0.6135 - accuracy: 0.6970 - val_loss: 0.6861 - val_accuracy: 0.6037\n",
            "Epoch 5/32\n",
            "46/46 [==============================] - 22s 490ms/step - loss: 0.6093 - accuracy: 0.6926 - val_loss: 0.6247 - val_accuracy: 0.6577\n",
            "Epoch 6/32\n",
            "46/46 [==============================] - 23s 506ms/step - loss: 0.5910 - accuracy: 0.6902 - val_loss: 0.6659 - val_accuracy: 0.5966\n",
            "Epoch 7/32\n",
            "46/46 [==============================] - 23s 498ms/step - loss: 0.5679 - accuracy: 0.7062 - val_loss: 0.6316 - val_accuracy: 0.6520\n",
            "Epoch 8/32\n",
            "46/46 [==============================] - 22s 485ms/step - loss: 0.5734 - accuracy: 0.7052 - val_loss: 0.6877 - val_accuracy: 0.5952\n",
            "Epoch 9/32\n",
            "46/46 [==============================] - 22s 489ms/step - loss: 0.5585 - accuracy: 0.7116 - val_loss: 0.5860 - val_accuracy: 0.7003\n",
            "Epoch 10/32\n",
            "46/46 [==============================] - 22s 485ms/step - loss: 0.5413 - accuracy: 0.7357 - val_loss: 0.5615 - val_accuracy: 0.7003\n",
            "Epoch 11/32\n",
            "46/46 [==============================] - 23s 497ms/step - loss: 0.5437 - accuracy: 0.7303 - val_loss: 0.5721 - val_accuracy: 0.7500\n",
            "Epoch 12/32\n",
            "46/46 [==============================] - 23s 498ms/step - loss: 0.5336 - accuracy: 0.7459 - val_loss: 0.5080 - val_accuracy: 0.7685\n",
            "Epoch 13/32\n",
            "46/46 [==============================] - 23s 504ms/step - loss: 0.4461 - accuracy: 0.7945 - val_loss: 0.4272 - val_accuracy: 0.8082\n",
            "Epoch 14/32\n",
            "46/46 [==============================] - 26s 574ms/step - loss: 0.3589 - accuracy: 0.8468 - val_loss: 0.3420 - val_accuracy: 0.8523\n",
            "Epoch 15/32\n",
            "46/46 [==============================] - 23s 511ms/step - loss: 0.3278 - accuracy: 0.8584 - val_loss: 0.3791 - val_accuracy: 0.8438\n",
            "Epoch 16/32\n",
            "46/46 [==============================] - 25s 547ms/step - loss: 0.2620 - accuracy: 0.8879 - val_loss: 0.3432 - val_accuracy: 0.8466\n",
            "Epoch 17/32\n",
            "46/46 [==============================] - 23s 499ms/step - loss: 0.2218 - accuracy: 0.9103 - val_loss: 0.2683 - val_accuracy: 0.8835\n",
            "Epoch 18/32\n",
            "46/46 [==============================] - 23s 498ms/step - loss: 0.1692 - accuracy: 0.9355 - val_loss: 0.3969 - val_accuracy: 0.8665\n",
            "Epoch 19/32\n",
            "46/46 [==============================] - 24s 525ms/step - loss: 0.1660 - accuracy: 0.9355 - val_loss: 0.3741 - val_accuracy: 0.8395\n",
            "Epoch 20/32\n",
            "46/46 [==============================] - 25s 544ms/step - loss: 0.1260 - accuracy: 0.9552 - val_loss: 0.2689 - val_accuracy: 0.8864\n",
            "Epoch 21/32\n",
            "46/46 [==============================] - 23s 506ms/step - loss: 0.0856 - accuracy: 0.9654 - val_loss: 0.5752 - val_accuracy: 0.8580\n",
            "Epoch 22/32\n",
            "46/46 [==============================] - 23s 503ms/step - loss: 0.0935 - accuracy: 0.9691 - val_loss: 0.3125 - val_accuracy: 0.8977\n",
            "Epoch 23/32\n",
            "46/46 [==============================] - 23s 502ms/step - loss: 0.0834 - accuracy: 0.9732 - val_loss: 0.3681 - val_accuracy: 0.9034\n",
            "Epoch 24/32\n",
            "46/46 [==============================] - 23s 505ms/step - loss: 0.0810 - accuracy: 0.9708 - val_loss: 0.4373 - val_accuracy: 0.8622\n",
            "Epoch 25/32\n",
            "46/46 [==============================] - 23s 501ms/step - loss: 0.0452 - accuracy: 0.9840 - val_loss: 0.3671 - val_accuracy: 0.8977\n",
            "Epoch 26/32\n",
            "46/46 [==============================] - 23s 496ms/step - loss: 0.0705 - accuracy: 0.9786 - val_loss: 0.3543 - val_accuracy: 0.8636\n",
            "Epoch 27/32\n",
            "46/46 [==============================] - 23s 499ms/step - loss: 0.0587 - accuracy: 0.9762 - val_loss: 0.3778 - val_accuracy: 0.9048\n"
          ]
        }
      ]
    },
    {
      "cell_type": "code",
      "source": [
        "plot_model_loss(historico)"
      ],
      "metadata": {
        "colab": {
          "base_uri": "https://localhost:8080/",
          "height": 281
        },
        "id": "lmJZAONmB5YK",
        "outputId": "75c2c2e6-ef20-426f-ec0f-29c6446d61fa"
      },
      "id": "lmJZAONmB5YK",
      "execution_count": 18,
      "outputs": [
        {
          "output_type": "display_data",
          "data": {
            "text/plain": [
              "<Figure size 432x288 with 1 Axes>"
            ],
            "image/png": "[encoded data removed]"
          },
          "metadata": {
            "needs_background": "light"
          }
        }
      ]
    },
    {
      "cell_type": "code",
      "source": [
        "plot_model_accuracy(historico)"
      ],
      "metadata": {
        "colab": {
          "base_uri": "https://localhost:8080/",
          "height": 267
        },
        "id": "hsO2x10oB8dG",
        "outputId": "9e47d91b-0ab1-4c93-cfc8-817044b7259d"
      },
      "id": "hsO2x10oB8dG",
      "execution_count": 19,
      "outputs": [
        {
          "output_type": "display_data",
          "data": {
            "text/plain": [
              "<Figure size 432x288 with 1 Axes>"
            ],
            "image/png": "[encoded data removed]"
          },
          "metadata": {
            "needs_background": "light"
          }
        }
      ]
    },
    {
      "cell_type": "markdown",
      "source": [
        "Comparando com a rede pré-treinada, o modelo com descongelamento parcial (meio a meio) performou melhor e teve menos overfitting. A acurácia de validação ficou maior, em 0.90. Além disso, o val_loss caiu bastante, de 0.91 para 0.37"
      ],
      "metadata": {
        "id": "H2oVI621JOD6"
      },
      "id": "H2oVI621JOD6"
    },
    {
      "cell_type": "markdown",
      "source": [
        "#### Descongelamento total"
      ],
      "metadata": {
        "id": "qWlG_I2hB9Ml"
      },
      "id": "qWlG_I2hB9Ml"
    },
    {
      "cell_type": "code",
      "source": [
        "#Descongelamento total\n",
        "\n",
        "rede = keras.applications.VGG16(\n",
        "    weights=\"imagenet\",  \n",
        "    input_shape=(128, 128, 3),\n",
        "    include_top=False,\n",
        ")\n",
        "\n",
        "rede.trainable = True"
      ],
      "metadata": {
        "id": "mZ51KAxyD3Fm"
      },
      "id": "mZ51KAxyD3Fm",
      "execution_count": 20,
      "outputs": []
    },
    {
      "cell_type": "code",
      "source": [
        "model = nova_rede_pre_treinada(rede)"
      ],
      "metadata": {
        "id": "RkRR_hObHBIK"
      },
      "id": "RkRR_hObHBIK",
      "execution_count": 21,
      "outputs": []
    },
    {
      "cell_type": "code",
      "source": [
        "# Definicao de otimizadores\n",
        "model.compile(loss = 'categorical_crossentropy',\n",
        "                     optimizer = 'Adam',\n",
        "                     metrics = ['accuracy'])\n",
        "\n",
        "\n",
        "es = EarlyStopping(monitor='val_loss', min_delta = 0.001, patience = 10)\n",
        "historico = model.fit_generator(train_dataset,\n",
        "                        steps_per_epoch = train_dataset.samples // 64,\n",
        "                        validation_data = val_dataset,\n",
        "                        validation_steps = val_dataset.samples // 64,\n",
        "                        epochs=32,\n",
        "                        callbacks=[es])"
      ],
      "metadata": {
        "colab": {
          "base_uri": "https://localhost:8080/"
        },
        "id": "tuMjHj3LEHZj",
        "outputId": "17799925-4376-4af4-e5c5-66b73a5eba65"
      },
      "id": "tuMjHj3LEHZj",
      "execution_count": 22,
      "outputs": [
        {
          "output_type": "stream",
          "name": "stderr",
          "text": [
            "/usr/local/lib/python3.7/dist-packages/tensorflow/python/keras/engine/training.py:1963: UserWarning: `Model.fit_generator` is deprecated and will be removed in a future version. Please use `Model.fit`, which supports generators.\n",
            "  warnings.warn('`Model.fit_generator` is deprecated and '\n"
          ]
        },
        {
          "output_type": "stream",
          "name": "stdout",
          "text": [
            "Epoch 1/32\n",
            "46/46 [==============================] - 38s 746ms/step - loss: 0.7215 - accuracy: 0.6705 - val_loss: 0.7258 - val_accuracy: 0.5980\n",
            "Epoch 2/32\n",
            "46/46 [==============================] - 34s 740ms/step - loss: 0.6269 - accuracy: 0.6923 - val_loss: 0.6747 - val_accuracy: 0.5923\n",
            "Epoch 3/32\n",
            "46/46 [==============================] - 34s 742ms/step - loss: 0.6067 - accuracy: 0.7014 - val_loss: 0.7414 - val_accuracy: 0.5994\n",
            "Epoch 4/32\n",
            "46/46 [==============================] - 34s 742ms/step - loss: 0.6167 - accuracy: 0.6950 - val_loss: 0.7280 - val_accuracy: 0.6009\n",
            "Epoch 5/32\n",
            "46/46 [==============================] - 34s 740ms/step - loss: 0.6177 - accuracy: 0.6946 - val_loss: 0.6810 - val_accuracy: 0.6009\n",
            "Epoch 6/32\n",
            "46/46 [==============================] - 34s 741ms/step - loss: 0.6181 - accuracy: 0.6967 - val_loss: 0.6732 - val_accuracy: 0.5994\n",
            "Epoch 7/32\n",
            "46/46 [==============================] - 34s 742ms/step - loss: 0.6084 - accuracy: 0.6967 - val_loss: 0.6502 - val_accuracy: 0.5966\n",
            "Epoch 8/32\n",
            "46/46 [==============================] - 34s 740ms/step - loss: 0.5947 - accuracy: 0.6984 - val_loss: 0.6399 - val_accuracy: 0.5994\n",
            "Epoch 9/32\n",
            "46/46 [==============================] - 34s 740ms/step - loss: 0.5840 - accuracy: 0.7052 - val_loss: 0.6504 - val_accuracy: 0.6236\n",
            "Epoch 10/32\n",
            "46/46 [==============================] - 34s 742ms/step - loss: 0.5814 - accuracy: 0.7001 - val_loss: 0.6275 - val_accuracy: 0.6506\n",
            "Epoch 11/32\n",
            "46/46 [==============================] - 34s 740ms/step - loss: 0.5792 - accuracy: 0.7137 - val_loss: 0.6572 - val_accuracy: 0.5909\n",
            "Epoch 12/32\n",
            "46/46 [==============================] - 34s 741ms/step - loss: 0.5706 - accuracy: 0.7038 - val_loss: 0.6412 - val_accuracy: 0.6420\n",
            "Epoch 13/32\n",
            "46/46 [==============================] - 34s 740ms/step - loss: 0.5711 - accuracy: 0.7228 - val_loss: 0.6133 - val_accuracy: 0.6676\n",
            "Epoch 14/32\n",
            "46/46 [==============================] - 34s 741ms/step - loss: 0.5643 - accuracy: 0.7147 - val_loss: 0.7144 - val_accuracy: 0.6009\n",
            "Epoch 15/32\n",
            "46/46 [==============================] - 34s 741ms/step - loss: 0.5516 - accuracy: 0.7313 - val_loss: 0.7591 - val_accuracy: 0.6293\n",
            "Epoch 16/32\n",
            "46/46 [==============================] - 34s 739ms/step - loss: 0.5596 - accuracy: 0.7255 - val_loss: 0.5972 - val_accuracy: 0.6932\n",
            "Epoch 17/32\n",
            "46/46 [==============================] - 34s 740ms/step - loss: 0.5354 - accuracy: 0.7279 - val_loss: 0.5951 - val_accuracy: 0.6747\n",
            "Epoch 18/32\n",
            "46/46 [==============================] - 34s 739ms/step - loss: 0.5079 - accuracy: 0.7575 - val_loss: 0.5136 - val_accuracy: 0.7514\n",
            "Epoch 19/32\n",
            "46/46 [==============================] - 34s 740ms/step - loss: 0.5101 - accuracy: 0.7476 - val_loss: 0.5326 - val_accuracy: 0.7429\n",
            "Epoch 20/32\n",
            "46/46 [==============================] - 34s 741ms/step - loss: 0.5066 - accuracy: 0.7534 - val_loss: 0.5566 - val_accuracy: 0.7145\n",
            "Epoch 21/32\n",
            "46/46 [==============================] - 34s 741ms/step - loss: 0.4999 - accuracy: 0.7632 - val_loss: 0.5127 - val_accuracy: 0.7386\n",
            "Epoch 22/32\n",
            "46/46 [==============================] - 34s 739ms/step - loss: 0.4537 - accuracy: 0.7931 - val_loss: 0.5888 - val_accuracy: 0.7159\n",
            "Epoch 23/32\n",
            "46/46 [==============================] - 34s 740ms/step - loss: 0.4725 - accuracy: 0.7721 - val_loss: 0.6793 - val_accuracy: 0.6605\n",
            "Epoch 24/32\n",
            "46/46 [==============================] - 34s 741ms/step - loss: 0.4457 - accuracy: 0.7986 - val_loss: 0.5175 - val_accuracy: 0.7656\n",
            "Epoch 25/32\n",
            "46/46 [==============================] - 34s 742ms/step - loss: 0.4372 - accuracy: 0.7989 - val_loss: 0.6397 - val_accuracy: 0.6705\n",
            "Epoch 26/32\n",
            "46/46 [==============================] - 34s 741ms/step - loss: 0.3791 - accuracy: 0.8329 - val_loss: 0.4632 - val_accuracy: 0.7969\n",
            "Epoch 27/32\n",
            "46/46 [==============================] - 34s 741ms/step - loss: 0.3513 - accuracy: 0.8509 - val_loss: 0.5513 - val_accuracy: 0.7670\n",
            "Epoch 28/32\n",
            "46/46 [==============================] - 34s 740ms/step - loss: 0.3521 - accuracy: 0.8519 - val_loss: 0.6971 - val_accuracy: 0.7344\n",
            "Epoch 29/32\n",
            "46/46 [==============================] - 34s 741ms/step - loss: 0.3497 - accuracy: 0.8570 - val_loss: 0.4414 - val_accuracy: 0.7997\n",
            "Epoch 30/32\n",
            "46/46 [==============================] - 34s 742ms/step - loss: 0.2759 - accuracy: 0.8889 - val_loss: 0.4989 - val_accuracy: 0.8026\n",
            "Epoch 31/32\n",
            "46/46 [==============================] - 34s 742ms/step - loss: 0.2691 - accuracy: 0.8923 - val_loss: 0.7545 - val_accuracy: 0.7514\n",
            "Epoch 32/32\n",
            "46/46 [==============================] - 34s 741ms/step - loss: 0.2308 - accuracy: 0.9083 - val_loss: 0.6381 - val_accuracy: 0.7415\n"
          ]
        }
      ]
    },
    {
      "cell_type": "code",
      "source": [
        "plot_model_loss(historico)"
      ],
      "metadata": {
        "colab": {
          "base_uri": "https://localhost:8080/",
          "height": 281
        },
        "id": "g8_bj7RACiGO",
        "outputId": "5fa2949f-ae7a-44b2-d3a3-af68b14b58b5"
      },
      "id": "g8_bj7RACiGO",
      "execution_count": 23,
      "outputs": [
        {
          "output_type": "display_data",
          "data": {
            "text/plain": [
              "<Figure size 432x288 with 1 Axes>"
            ],
            "image/png": "[encoded data removed]"
          },
          "metadata": {
            "needs_background": "light"
          }
        }
      ]
    },
    {
      "cell_type": "code",
      "source": [
        "plot_model_accuracy(historico)"
      ],
      "metadata": {
        "colab": {
          "base_uri": "https://localhost:8080/",
          "height": 265
        },
        "id": "rXwlsy1TCkgg",
        "outputId": "eb152e7e-2919-495b-e7cf-7c243b36c013"
      },
      "id": "rXwlsy1TCkgg",
      "execution_count": 24,
      "outputs": [
        {
          "output_type": "display_data",
          "data": {
            "text/plain": [
              "<Figure size 432x288 with 1 Axes>"
            ],
            "image/png": "[encoded data removed]"
          },
          "metadata": {
            "needs_background": "light"
          }
        }
      ]
    },
    {
      "cell_type": "markdown",
      "source": [
        "Comparando com as redes anteriores este modelo a pior performance considerando as acurácias de treino e validação. O val_loss ficou melhor do que a rede pré-treinada, mas ainda assim, ficou pior do que a rede com descongelamento parcial."
      ],
      "metadata": {
        "id": "23nmOSAQJ0OF"
      },
      "id": "23nmOSAQJ0OF"
    }
  ],
  "metadata": {
    "kernelspec": {
      "display_name": "Python 3 (ipykernel)",
      "language": "python",
      "name": "python3"
    },
    "language_info": {
      "codemirror_mode": {
        "name": "ipython",
        "version": 3
      },
      "file_extension": ".py",
      "mimetype": "text/x-python",
      "name": "python",
      "nbconvert_exporter": "python",
      "pygments_lexer": "ipython3",
      "version": "3.9.5"
    },
    "colab": {
      "name": "Notebook Anexo VGG16.ipynb",
      "provenance": [],
      "collapsed_sections": [
        "0RFUw-TCLPe_"
      ]
    },
    "accelerator": "GPU"
  },
  "nbformat": 4,
  "nbformat_minor": 5
}