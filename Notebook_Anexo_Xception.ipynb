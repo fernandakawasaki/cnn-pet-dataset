{
  "cells": [
    {
      "cell_type": "markdown",
      "source": [
        "# **Projeto - Redes Convolucionais**"
      ],
      "metadata": {
        "id": "kVYIatsKAaDm"
      },
      "id": "kVYIatsKAaDm"
    },
    {
      "cell_type": "markdown",
      "source": [
        "### **Download dataset**"
      ],
      "metadata": {
        "id": "3eYze2mokkeg"
      },
      "id": "3eYze2mokkeg"
    },
    {
      "cell_type": "code",
      "source": [
        "import pandas as pd\n",
        "import tensorflow as tf\n",
        "from tensorflow.python.keras.models import Sequential\n",
        "from tensorflow.python.keras.layers import Dense, Activation, Dropout, Flatten, Conv2D, MaxPooling2D, Input\n",
        "from tensorflow.python.keras.callbacks import EarlyStopping"
      ],
      "metadata": {
        "id": "alUAo1nsJhjg"
      },
      "id": "alUAo1nsJhjg",
      "execution_count": 10,
      "outputs": []
    },
    {
      "cell_type": "code",
      "source": [
        "!wget https://www.robots.ox.ac.uk/~vgg/data/pets/data/images.tar.gz\n",
        "!wget https://www.robots.ox.ac.uk/~vgg/data/pets/data/annotations.tar.gz"
      ],
      "metadata": {
        "colab": {
          "base_uri": "https://localhost:8080/"
        },
        "id": "Pt1NIjKS9xC0",
        "outputId": "21f42b93-e0e3-423e-825d-d79cd7dee81b"
      },
      "id": "Pt1NIjKS9xC0",
      "execution_count": 1,
      "outputs": [
        {
          "output_type": "stream",
          "name": "stdout",
          "text": [
            "--2022-05-15 19:14:29--  https://www.robots.ox.ac.uk/~vgg/data/pets/data/images.tar.gz\n",
            "Resolving www.robots.ox.ac.uk (www.robots.ox.ac.uk)... 129.67.94.2\n",
            "Connecting to www.robots.ox.ac.uk (www.robots.ox.ac.uk)|129.67.94.2|:443... connected.\n",
            "HTTP request sent, awaiting response... 200 OK\n",
            "Length: 791918971 (755M) [application/x-gzip]\n",
            "Saving to: ‘images.tar.gz’\n",
            "\n",
            "images.tar.gz       100%[===================>] 755.23M   111MB/s    in 6.9s    \n",
            "\n",
            "2022-05-15 19:14:36 (109 MB/s) - ‘images.tar.gz’ saved [791918971/791918971]\n",
            "\n",
            "--2022-05-15 19:14:36--  https://www.robots.ox.ac.uk/~vgg/data/pets/data/annotations.tar.gz\n",
            "Resolving www.robots.ox.ac.uk (www.robots.ox.ac.uk)... 129.67.94.2\n",
            "Connecting to www.robots.ox.ac.uk (www.robots.ox.ac.uk)|129.67.94.2|:443... connected.\n",
            "HTTP request sent, awaiting response... 200 OK\n",
            "Length: 19173078 (18M) [application/x-gzip]\n",
            "Saving to: ‘annotations.tar.gz’\n",
            "\n",
            "annotations.tar.gz  100%[===================>]  18.28M  52.7MB/s    in 0.3s    \n",
            "\n",
            "2022-05-15 19:14:37 (52.7 MB/s) - ‘annotations.tar.gz’ saved [19173078/19173078]\n",
            "\n"
          ]
        }
      ]
    },
    {
      "cell_type": "code",
      "source": [
        "!tar -xf images.tar.gz\n",
        "!tar -xf annotations.tar.gz"
      ],
      "metadata": {
        "id": "F_EWVLaxNBaA"
      },
      "id": "F_EWVLaxNBaA",
      "execution_count": 2,
      "outputs": []
    },
    {
      "cell_type": "markdown",
      "source": [
        "### **Prepare data**"
      ],
      "metadata": {
        "id": "0RFUw-TCLPe_"
      },
      "id": "0RFUw-TCLPe_"
    },
    {
      "cell_type": "code",
      "source": [
        "IMAGE_BASE_PATH = 'images'\n",
        "SAMPLE_FILES = 'annotations/list.txt'\n",
        "TRAIN_FILES = 'annotations/trainval.txt'\n",
        "TEST_FILES = 'annotations/test.txt'\n",
        "\n",
        "files = open(TRAIN_FILES)\n",
        "train_files = []\n",
        "train_labels = []\n",
        "for txt_line in files:\n",
        "    if txt_line[0] == '#':\n",
        "        continue\n",
        "    file_name, class_id, cat_dog_id, sub_class_id = txt_line.split(' ')\n",
        "    train_files.append(file_name + '.jpg')\n",
        "    train_labels.append(cat_dog_id)\n",
        "files.close()\n",
        "\n",
        "train_data_frame = pd.DataFrame({'filename': train_files, 'label': train_labels})"
      ],
      "metadata": {
        "id": "fMrH_4O0Jb_l"
      },
      "id": "fMrH_4O0Jb_l",
      "execution_count": 5,
      "outputs": []
    },
    {
      "cell_type": "code",
      "source": [
        "BATCH_SIZE = 64\n",
        "\n",
        "train_datagen = tf.keras.preprocessing.image.ImageDataGenerator(validation_split=0.2, rescale=1/255)\n",
        "\n",
        "train_dataset = train_datagen.flow_from_dataframe(dataframe=train_data_frame,\n",
        "                                        directory=IMAGE_BASE_PATH,\n",
        "                                        x_col='filename',\n",
        "                                        y_col='label',\n",
        "                                        target_size=(128, 128),\n",
        "                                        class_mode='categorical',\n",
        "                                        batch_size=BATCH_SIZE,\n",
        "                                        subset='training',\n",
        "                                        shuffle=True,\n",
        "                                        seed=42)\n",
        "\n",
        "val_dataset = train_datagen.flow_from_dataframe(dataframe=train_data_frame,\n",
        "                                      directory=IMAGE_BASE_PATH,\n",
        "                                      x_col='filename',\n",
        "                                      y_col='label',\n",
        "                                      target_size=(128, 128),\n",
        "                                      class_mode='categorical',\n",
        "                                      batch_size=BATCH_SIZE,\n",
        "                                      subset='validation',\n",
        "                                      shuffle=True,\n",
        "                                      seed=42)"
      ],
      "metadata": {
        "colab": {
          "base_uri": "https://localhost:8080/"
        },
        "id": "YMK7BvNPJmjR",
        "outputId": "0702a88f-7cb4-4e28-b9f2-baf08e66302c"
      },
      "id": "YMK7BvNPJmjR",
      "execution_count": 8,
      "outputs": [
        {
          "output_type": "stream",
          "name": "stdout",
          "text": [
            "Found 2944 validated image filenames belonging to 2 classes.\n",
            "Found 736 validated image filenames belonging to 2 classes.\n"
          ]
        }
      ]
    },
    {
      "cell_type": "markdown",
      "source": [
        "### **Model - Xception**"
      ],
      "metadata": {
        "id": "NoA-Du3Z9LtE"
      },
      "id": "NoA-Du3Z9LtE"
    },
    {
      "cell_type": "code",
      "source": [
        "#Pré treinada\n",
        "\n",
        "rede = tf.keras.applications.Xception(\n",
        "                  include_top=False,\n",
        "                  weights=\"imagenet\",\n",
        "                  input_shape=(128, 128, 3),\n",
        "                  classifier_activation=\"softmax\"\n",
        "              )\n",
        "\n",
        "rede.trainable = False"
      ],
      "metadata": {
        "id": "_1aJcfXsB4CV",
        "colab": {
          "base_uri": "https://localhost:8080/"
        },
        "outputId": "6ed9be76-ef38-4a4f-e0b6-8bd6c651ed7c"
      },
      "id": "_1aJcfXsB4CV",
      "execution_count": 11,
      "outputs": [
        {
          "output_type": "stream",
          "name": "stdout",
          "text": [
            "Downloading data from https://storage.googleapis.com/tensorflow/keras-applications/xception/xception_weights_tf_dim_ordering_tf_kernels_notop.h5\n",
            "83689472/83683744 [==============================] - 1s 0us/step\n",
            "83697664/83683744 [==============================] - 1s 0us/step\n"
          ]
        }
      ]
    },
    {
      "cell_type": "code",
      "source": [
        "model = Sequential()\n",
        "model.add(rede)\n",
        "model.add(Flatten())\n",
        "model.add(Dense(64, activation='relu'))\n",
        "model.add(Dense(64, activation='relu'))\n",
        "model.add(Dense(64, activation='relu'))\n",
        "model.add(Dense(2))\n",
        "model.add(Activation('softmax'))"
      ],
      "metadata": {
        "id": "yf9-8P_RGC0P"
      },
      "id": "yf9-8P_RGC0P",
      "execution_count": 12,
      "outputs": []
    },
    {
      "cell_type": "code",
      "source": [
        "model.compile(loss = 'categorical_crossentropy', optimizer = 'Adam', metrics=['accuracy'])\n",
        "\n",
        "es = EarlyStopping(monitor='val_loss', min_delta = 0.001, patience = 5)\n",
        "\n",
        "hist = model.fit_generator(train_dataset, steps_per_epoch = train_dataset.samples // 64, \n",
        "                           epochs = 20, validation_data = val_dataset, \n",
        "                           validation_steps = val_dataset.samples // 64, callbacks=[es])"
      ],
      "metadata": {
        "id": "8l5gS5KzDcFw",
        "colab": {
          "base_uri": "https://localhost:8080/"
        },
        "outputId": "8a55567c-9764-4c28-c3bc-fe1a9f5168d0"
      },
      "id": "8l5gS5KzDcFw",
      "execution_count": 13,
      "outputs": [
        {
          "output_type": "stream",
          "name": "stderr",
          "text": [
            "/usr/local/lib/python3.7/dist-packages/tensorflow/python/keras/engine/training.py:1963: UserWarning: `Model.fit_generator` is deprecated and will be removed in a future version. Please use `Model.fit`, which supports generators.\n",
            "  warnings.warn('`Model.fit_generator` is deprecated and '\n"
          ]
        },
        {
          "output_type": "stream",
          "name": "stdout",
          "text": [
            "Epoch 1/20\n",
            "46/46 [==============================] - 27s 479ms/step - loss: 0.3243 - accuracy: 0.8862 - val_loss: 0.2077 - val_accuracy: 0.9261\n",
            "Epoch 2/20\n",
            "46/46 [==============================] - 20s 443ms/step - loss: 0.1317 - accuracy: 0.9555 - val_loss: 0.1712 - val_accuracy: 0.9375\n",
            "Epoch 3/20\n",
            "46/46 [==============================] - 25s 557ms/step - loss: 0.0671 - accuracy: 0.9745 - val_loss: 0.1452 - val_accuracy: 0.9432\n",
            "Epoch 4/20\n",
            "46/46 [==============================] - 20s 441ms/step - loss: 0.0340 - accuracy: 0.9888 - val_loss: 0.1401 - val_accuracy: 0.9574\n",
            "Epoch 5/20\n",
            "46/46 [==============================] - 23s 513ms/step - loss: 0.0193 - accuracy: 0.9939 - val_loss: 0.2270 - val_accuracy: 0.9347\n",
            "Epoch 6/20\n",
            "46/46 [==============================] - 27s 599ms/step - loss: 0.0163 - accuracy: 0.9946 - val_loss: 0.1944 - val_accuracy: 0.9531\n",
            "Epoch 7/20\n",
            "46/46 [==============================] - 20s 444ms/step - loss: 0.0332 - accuracy: 0.9891 - val_loss: 0.2817 - val_accuracy: 0.9375\n",
            "Epoch 8/20\n",
            "46/46 [==============================] - 21s 472ms/step - loss: 0.0340 - accuracy: 0.9878 - val_loss: 0.2110 - val_accuracy: 0.9460\n",
            "Epoch 9/20\n",
            "46/46 [==============================] - 20s 443ms/step - loss: 0.0413 - accuracy: 0.9864 - val_loss: 0.2731 - val_accuracy: 0.9332\n"
          ]
        }
      ]
    },
    {
      "cell_type": "code",
      "source": [
        "#Descongelamento parcial\n",
        "\n",
        "rede = tf.keras.applications.Xception(\n",
        "                  include_top=False,\n",
        "                  weights=\"imagenet\",\n",
        "                  input_shape=(128, 128, 3),\n",
        "                  classifier_activation=\"softmax\"\n",
        "              )\n",
        "\n",
        "print(len(rede.layers), len(rede.layers)//2)\n",
        "\n",
        "for layer in rede.layers[:len(rede.layers)//2]:\n",
        "   layer.trainable = False\n",
        "for layer in rede.layers[len(rede.layers)//2:]:\n",
        "   layer.trainable = True"
      ],
      "metadata": {
        "colab": {
          "base_uri": "https://localhost:8080/"
        },
        "id": "0ZwS94E5qRJx",
        "outputId": "78cbfdd7-89eb-418c-81eb-a6c0d5ad8483"
      },
      "id": "0ZwS94E5qRJx",
      "execution_count": 14,
      "outputs": [
        {
          "output_type": "stream",
          "name": "stdout",
          "text": [
            "132 66\n"
          ]
        }
      ]
    },
    {
      "cell_type": "code",
      "source": [
        "model = Sequential()\n",
        "model.add(rede)\n",
        "model.add(Flatten())\n",
        "model.add(Dense(64, activation='relu'))\n",
        "model.add(Dense(64, activation='relu'))\n",
        "model.add(Dense(64, activation='relu'))\n",
        "model.add(Dense(2))\n",
        "model.add(Activation('softmax'))"
      ],
      "metadata": {
        "id": "OzK-6UtCG4GR"
      },
      "id": "OzK-6UtCG4GR",
      "execution_count": 15,
      "outputs": []
    },
    {
      "cell_type": "code",
      "source": [
        "model.compile(loss = 'categorical_crossentropy', optimizer = 'Adam', metrics=['accuracy'])\n",
        "\n",
        "es = EarlyStopping(monitor='val_loss', min_delta = 0.001, patience = 5)\n",
        "\n",
        "hist = model.fit_generator(train_dataset, steps_per_epoch = train_dataset.samples // 64, \n",
        "                           epochs = 20, validation_data = val_dataset, \n",
        "                           validation_steps = val_dataset.samples // 64, callbacks=[es])"
      ],
      "metadata": {
        "colab": {
          "base_uri": "https://localhost:8080/"
        },
        "id": "vjt2vklnEE5B",
        "outputId": "b8a522cd-f55f-4d89-fa01-d69241e94a8f"
      },
      "id": "vjt2vklnEE5B",
      "execution_count": 16,
      "outputs": [
        {
          "output_type": "stream",
          "name": "stderr",
          "text": [
            "/usr/local/lib/python3.7/dist-packages/tensorflow/python/keras/engine/training.py:1963: UserWarning: `Model.fit_generator` is deprecated and will be removed in a future version. Please use `Model.fit`, which supports generators.\n",
            "  warnings.warn('`Model.fit_generator` is deprecated and '\n"
          ]
        },
        {
          "output_type": "stream",
          "name": "stdout",
          "text": [
            "Epoch 1/20\n",
            "46/46 [==============================] - 33s 577ms/step - loss: 0.3412 - accuracy: 0.8285 - val_loss: 97.3447 - val_accuracy: 0.6804\n",
            "Epoch 2/20\n",
            "46/46 [==============================] - 24s 524ms/step - loss: 0.1407 - accuracy: 0.9531 - val_loss: 3.9751 - val_accuracy: 0.8906\n",
            "Epoch 3/20\n",
            "46/46 [==============================] - 24s 522ms/step - loss: 0.0601 - accuracy: 0.9810 - val_loss: 1.0178 - val_accuracy: 0.9247\n",
            "Epoch 4/20\n",
            "46/46 [==============================] - 24s 521ms/step - loss: 0.0395 - accuracy: 0.9857 - val_loss: 0.4043 - val_accuracy: 0.9474\n",
            "Epoch 5/20\n",
            "46/46 [==============================] - 24s 516ms/step - loss: 0.0437 - accuracy: 0.9929 - val_loss: 0.3840 - val_accuracy: 0.9503\n",
            "Epoch 6/20\n",
            "46/46 [==============================] - 24s 523ms/step - loss: 0.0544 - accuracy: 0.9868 - val_loss: 0.8635 - val_accuracy: 0.8977\n",
            "Epoch 7/20\n",
            "46/46 [==============================] - 24s 521ms/step - loss: 0.0348 - accuracy: 0.9864 - val_loss: 0.3057 - val_accuracy: 0.9517\n",
            "Epoch 8/20\n",
            "46/46 [==============================] - 24s 522ms/step - loss: 0.0133 - accuracy: 0.9959 - val_loss: 0.9014 - val_accuracy: 0.9205\n",
            "Epoch 9/20\n",
            "46/46 [==============================] - 24s 522ms/step - loss: 0.0280 - accuracy: 0.9935 - val_loss: 0.3177 - val_accuracy: 0.9446\n",
            "Epoch 10/20\n",
            "46/46 [==============================] - 24s 519ms/step - loss: 0.0114 - accuracy: 0.9976 - val_loss: 0.9084 - val_accuracy: 0.9162\n",
            "Epoch 11/20\n",
            "46/46 [==============================] - 24s 519ms/step - loss: 0.0378 - accuracy: 0.9912 - val_loss: 0.4683 - val_accuracy: 0.9091\n",
            "Epoch 12/20\n",
            "46/46 [==============================] - 26s 565ms/step - loss: 0.0267 - accuracy: 0.9908 - val_loss: 0.4626 - val_accuracy: 0.9247\n"
          ]
        }
      ]
    },
    {
      "cell_type": "code",
      "source": [
        "#Descongelamento total\n",
        "\n",
        "rede = tf.keras.applications.Xception(\n",
        "                  include_top=False,\n",
        "                  weights=\"imagenet\",\n",
        "                  input_shape=(128, 128, 3),\n",
        "                  classifier_activation=\"softmax\"\n",
        "              )\n",
        "\n",
        "rede.trainable = True"
      ],
      "metadata": {
        "id": "mZ51KAxyD3Fm"
      },
      "id": "mZ51KAxyD3Fm",
      "execution_count": 17,
      "outputs": []
    },
    {
      "cell_type": "code",
      "source": [
        "model = Sequential()\n",
        "model.add(rede)\n",
        "model.add(Flatten())\n",
        "model.add(Dense(64, activation='relu'))\n",
        "model.add(Dense(64, activation='relu'))\n",
        "model.add(Dense(64, activation='relu'))\n",
        "model.add(Dense(2))\n",
        "model.add(Activation('softmax'))"
      ],
      "metadata": {
        "id": "RkRR_hObHBIK"
      },
      "id": "RkRR_hObHBIK",
      "execution_count": 18,
      "outputs": []
    },
    {
      "cell_type": "code",
      "source": [
        "model.compile(loss = 'categorical_crossentropy', optimizer = 'Adam', metrics=['accuracy'])\n",
        "\n",
        "es = EarlyStopping(monitor='val_loss', min_delta = 0.001, patience = 5)\n",
        "\n",
        "hist = model.fit_generator(train_dataset, steps_per_epoch = train_dataset.samples // 64, \n",
        "                           epochs = 20, validation_data = val_dataset, \n",
        "                           validation_steps = val_dataset.samples // 64, callbacks=[es])"
      ],
      "metadata": {
        "colab": {
          "base_uri": "https://localhost:8080/"
        },
        "id": "tuMjHj3LEHZj",
        "outputId": "ea2a66d5-b43c-4942-bcba-0aaa473261ac"
      },
      "id": "tuMjHj3LEHZj",
      "execution_count": 19,
      "outputs": [
        {
          "output_type": "stream",
          "name": "stderr",
          "text": [
            "/usr/local/lib/python3.7/dist-packages/tensorflow/python/keras/engine/training.py:1963: UserWarning: `Model.fit_generator` is deprecated and will be removed in a future version. Please use `Model.fit`, which supports generators.\n",
            "  warnings.warn('`Model.fit_generator` is deprecated and '\n"
          ]
        },
        {
          "output_type": "stream",
          "name": "stdout",
          "text": [
            "Epoch 1/20\n",
            "46/46 [==============================] - 49s 907ms/step - loss: 0.4108 - accuracy: 0.8342 - val_loss: 8.0407 - val_accuracy: 0.5994\n",
            "Epoch 2/20\n",
            "46/46 [==============================] - 41s 887ms/step - loss: 0.1735 - accuracy: 0.9402 - val_loss: 2.0026 - val_accuracy: 0.7429\n",
            "Epoch 3/20\n",
            "46/46 [==============================] - 41s 890ms/step - loss: 0.1015 - accuracy: 0.9643 - val_loss: 0.9376 - val_accuracy: 0.9261\n",
            "Epoch 4/20\n",
            "46/46 [==============================] - 41s 889ms/step - loss: 0.0648 - accuracy: 0.9779 - val_loss: 2.7778 - val_accuracy: 0.7571\n",
            "Epoch 5/20\n",
            "46/46 [==============================] - 41s 888ms/step - loss: 0.0325 - accuracy: 0.9864 - val_loss: 0.7950 - val_accuracy: 0.8764\n",
            "Epoch 6/20\n",
            "46/46 [==============================] - 41s 889ms/step - loss: 0.0337 - accuracy: 0.9908 - val_loss: 0.3544 - val_accuracy: 0.9347\n",
            "Epoch 7/20\n",
            "46/46 [==============================] - 41s 888ms/step - loss: 0.0501 - accuracy: 0.9834 - val_loss: 0.3032 - val_accuracy: 0.9176\n",
            "Epoch 8/20\n",
            "46/46 [==============================] - 41s 890ms/step - loss: 0.0317 - accuracy: 0.9918 - val_loss: 0.4430 - val_accuracy: 0.9134\n",
            "Epoch 9/20\n",
            "46/46 [==============================] - 41s 884ms/step - loss: 0.0381 - accuracy: 0.9861 - val_loss: 0.4564 - val_accuracy: 0.9219\n",
            "Epoch 10/20\n",
            "46/46 [==============================] - 41s 886ms/step - loss: 0.0444 - accuracy: 0.9881 - val_loss: 0.3936 - val_accuracy: 0.9247\n",
            "Epoch 11/20\n",
            "46/46 [==============================] - 41s 885ms/step - loss: 0.0242 - accuracy: 0.9949 - val_loss: 0.3132 - val_accuracy: 0.9176\n",
            "Epoch 12/20\n",
            "46/46 [==============================] - 41s 889ms/step - loss: 0.0548 - accuracy: 0.9806 - val_loss: 3.5015 - val_accuracy: 0.7216\n"
          ]
        }
      ]
    },
    {
      "cell_type": "markdown",
      "source": [
        "**Observações:**\n",
        "\n",
        "Uma das máximas acurácias entre os modelos desenvolvidos no projeto foi obtida utilizando a rede Xception e o overfitting desse modelo foi inferior aos anteriores. Ao realizar o descongelamento parcial e total a acurácia de validação foi um pouco menor, aumentando também o overfitting."
      ],
      "metadata": {
        "id": "0CgP_aBSAHde"
      },
      "id": "0CgP_aBSAHde"
    },
    {
      "cell_type": "code",
      "source": [
        ""
      ],
      "metadata": {
        "id": "mwjvPG_NMdRY"
      },
      "id": "mwjvPG_NMdRY",
      "execution_count": null,
      "outputs": []
    }
  ],
  "metadata": {
    "kernelspec": {
      "display_name": "Python 3 (ipykernel)",
      "language": "python",
      "name": "python3"
    },
    "language_info": {
      "codemirror_mode": {
        "name": "ipython",
        "version": 3
      },
      "file_extension": ".py",
      "mimetype": "text/x-python",
      "name": "python",
      "nbconvert_exporter": "python",
      "pygments_lexer": "ipython3",
      "version": "3.9.5"
    },
    "colab": {
      "name": "Notebook Anexo -  Xception.ipynb",
      "provenance": [],
      "collapsed_sections": [
        "3eYze2mokkeg",
        "0RFUw-TCLPe_"
      ]
    },
    "accelerator": "GPU"
  },
  "nbformat": 4,
  "nbformat_minor": 5
}